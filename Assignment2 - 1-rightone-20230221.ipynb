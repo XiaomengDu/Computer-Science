{
 "cells": [
  {
   "cell_type": "markdown",
   "id": "f295a05c",
   "metadata": {},
   "source": [
    "# Xiaomeng Du\n",
    "# 20/02/2023\n",
    "# 1"
   ]
  },
  {
   "cell_type": "code",
   "execution_count": 9,
   "id": "d011d7d8",
   "metadata": {},
   "outputs": [
    {
     "name": "stdout",
     "output_type": "stream",
     "text": [
      "The result of the calculation was : \n",
      "149769\n"
     ]
    }
   ],
   "source": [
    "num1=100;\n",
    "num2=29;\n",
    "sum1=(num1+num2);\n",
    "sum2=sum1*3;\n",
    "sum3=sum2**2;\n",
    "print(\"The result of the calculation was : \",end='\\n');\n",
    "print(sum3);"
   ]
  },
  {
   "cell_type": "markdown",
   "id": "dc12785d",
   "metadata": {},
   "source": [
    "# 2"
   ]
  },
  {
   "cell_type": "code",
   "execution_count": 28,
   "id": "8a637114",
   "metadata": {
    "scrolled": true
   },
   "outputs": [
    {
     "name": "stdout",
     "output_type": "stream",
     "text": [
      "Name:John\n",
      "Year of birth :1995\n",
      "Age:26\n",
      "Password:95Joh676\n"
     ]
    }
   ],
   "source": [
    "name = input(\"Name:\")\n",
    "year = input(\"Year of birth :\")\n",
    "age = int(input(\"Age:\"))\n",
    "year_digits = str(year)[2:4]\n",
    "name_letters=str(name)[0:3]\n",
    "age_twice=age**2\n",
    "print(\"Password:\",year_digits,name_letters,age_twice,sep='')"
   ]
  },
  {
   "cell_type": "markdown",
   "id": "c16d0c35",
   "metadata": {},
   "source": [
    "# 3"
   ]
  },
  {
   "cell_type": "code",
   "execution_count": 34,
   "id": "45e9190b",
   "metadata": {},
   "outputs": [
    {
     "name": "stdout",
     "output_type": "stream",
     "text": [
      "First number:5\n",
      "Second number:6\n",
      "One of the numbers is even\n"
     ]
    }
   ],
   "source": [
    "num1=int(input(\"First number:\"))\n",
    "num2=int(input(\"Second number:\"))\n",
    "if  num1 % 2 == 0 and num2 % 2 == 0:\n",
    "    print(\"Both numbers are even\")\n",
    "elif num1% 2 != 0 or num2 % 2 != 0:\n",
    "    print(\"One of the numbers is even\")\n",
    "else:\n",
    "    print(\"Both numbers are odd\")"
   ]
  },
  {
   "cell_type": "markdown",
   "id": "a4e87413",
   "metadata": {},
   "source": [
    "# 4"
   ]
  },
  {
   "cell_type": "code",
   "execution_count": 42,
   "id": "f15c42b6",
   "metadata": {},
   "outputs": [
    {
     "name": "stdout",
     "output_type": "stream",
     "text": [
      "Give an integer:5\n",
      "The sum was: 10\n"
     ]
    }
   ],
   "source": [
    "num=int(input(\"Give an integer:\"))\n",
    "sum=0\n",
    "for n in range (num):\n",
    "    sum += n\n",
    "print(\"The sum was:\",sum)\n"
   ]
  },
  {
   "cell_type": "markdown",
   "id": "04ee7652",
   "metadata": {},
   "source": [
    "# 5"
   ]
  },
  {
   "cell_type": "code",
   "execution_count": 75,
   "id": "7fd6e026",
   "metadata": {},
   "outputs": [
    {
     "name": "stdout",
     "output_type": "stream",
     "text": [
      "Player:0\n",
      "Try a bigger number.\n",
      "Player:7\n",
      "Try a smaller number.\n",
      "Player:5\n",
      "That's right!Number of tries: 3\n"
     ]
    }
   ],
   "source": [
    "import random\n",
    "time = 1\n",
    "num = random.randint(0,10)\n",
    "max_num=10\n",
    "min_num=0\n",
    "while 1:\n",
    "    answer=int(input(\"Player:\"))#input number between 0 and 10\n",
    "    if answer == num:\n",
    "        print(\"That's right!Number of tries:\",time)\n",
    "        break\n",
    "    elif answer > num:\n",
    "        print(\"Try a smaller number.\") \n",
    "        max_num=answer\n",
    "        time += 1\n",
    "    elif answer < num:\n",
    "        print(\"Try a bigger number.\")\n",
    "        min_num=answer\n",
    "        time += 1"
   ]
  },
  {
   "cell_type": "code",
   "execution_count": 79,
   "id": "7d1f0ccb",
   "metadata": {},
   "outputs": [
    {
     "name": "stdout",
     "output_type": "stream",
     "text": [
      "Player1:8\n",
      "Try a smaller number.\n",
      "Player1:3\n",
      "Try a bigger number.\n",
      "Player1:5\n",
      "Try a smaller number.\n",
      "Player1:4\n",
      "That's right!Number of tries: 4\n",
      "Player2:7\n",
      "Try a smaller number.\n",
      "Player2:4\n",
      "That's right!Number of tries: 2\n",
      "Winer is Player2\n"
     ]
    }
   ],
   "source": [
    "import random\n",
    "time1 = 1\n",
    "num = random.randint(0,10)\n",
    "max_num=10\n",
    "min_num=0\n",
    "while 1:\n",
    "    answer1=int(input(\"Player1:\"))#input number between 0 and 10\n",
    "    if answer1 == num:\n",
    "        print(\"That's right!Number of tries:\",time1)\n",
    "        break\n",
    "    elif answer1 > num:\n",
    "        print(\"Try a smaller number.\") \n",
    "        max_num=answer1\n",
    "        time1 += 1\n",
    "    elif answer1 < num:\n",
    "        print(\"Try a bigger number.\")\n",
    "        min_num=answer1\n",
    "        time1 += 1\n",
    "time2 = 1\n",
    "while 1:\n",
    "    answer2=int(input(\"Player2:\"))#input number between 0 and 10\n",
    "    if answer2 == num:\n",
    "        print(\"That's right!Number of tries:\",time2)\n",
    "        break\n",
    "    elif answer2 > num:\n",
    "        print(\"Try a smaller number.\") \n",
    "        max_num=answer2\n",
    "        time2 += 1\n",
    "    elif answer2 < num:\n",
    "        print(\"Try a bigger number.\")\n",
    "        min_num=answer2\n",
    "        time2 += 1\n",
    "if time1 >  time2:\n",
    "    print(\"Winer is Player2\")\n",
    "elif  time1 <  time2:\n",
    "    print(\"Winer is Player1\")\n",
    "else:\n",
    "    print(\"Winer is Player1 and Play2\")"
   ]
  },
  {
   "cell_type": "code",
   "execution_count": null,
   "id": "6eee483e",
   "metadata": {},
   "outputs": [],
   "source": []
  }
 ],
 "metadata": {
  "kernelspec": {
   "display_name": "Python 3 (ipykernel)",
   "language": "python",
   "name": "python3"
  },
  "language_info": {
   "codemirror_mode": {
    "name": "ipython",
    "version": 3
   },
   "file_extension": ".py",
   "mimetype": "text/x-python",
   "name": "python",
   "nbconvert_exporter": "python",
   "pygments_lexer": "ipython3",
   "version": "3.9.13"
  }
 },
 "nbformat": 4,
 "nbformat_minor": 5
}
